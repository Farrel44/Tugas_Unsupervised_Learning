{
  "nbformat": 4,
  "nbformat_minor": 0,
  "metadata": {
    "colab": {
      "provenance": [],
      "include_colab_link": true
    },
    "kernelspec": {
      "name": "python3",
      "display_name": "Python 3"
    },
    "language_info": {
      "name": "python"
    }
  },
  "cells": [
    {
      "cell_type": "markdown",
      "metadata": {
        "id": "view-in-github",
        "colab_type": "text"
      },
      "source": [
        "<a href=\"https://colab.research.google.com/github/Farrel44/Tugas_Unsupervised_Learning/blob/main/Tugas_Unsupervised_Farrel.ipynb\" target=\"_parent\"><img src=\"https://colab.research.google.com/assets/colab-badge.svg\" alt=\"Open In Colab\"/></a>"
      ]
    },
    {
      "cell_type": "markdown",
      "metadata": {
        "id": "EqmubOp2whk3"
      },
      "source": [
        "# Soal 1. Pemahaman k-means clustering\n",
        "\n",
        "Jelaskan bagaimana cara kerja k-means clustering!"
      ]
    },
    {
      "cell_type": "markdown",
      "metadata": {
        "id": "gf8y3llqw369"
      },
      "source": [
        "Jawab disini:\n",
        "\n",
        "K-means clustering algorithm bekerja dengan menaruh beberapa centroids di posisi random. Lalu setiap data yang ada di dataframe, akan dicari jaraknya dengan centroids, dan dipilih centroids paling deket. Setelah itu, berdasarkan jaraknya dengan centroid, data akan dikelompokkan dalam cluster paling dekat. Centroid akan diganti posisi nya berdasarkan rata – rata dari semua data yang ada di cluster. Udh selesai ketika tidak ada pergantian posisi cluster i.e centroid tidak berubah"
      ]
    },
    {
      "cell_type": "markdown",
      "source": [],
      "metadata": {
        "id": "HL8Yrwz5WcxQ"
      }
    },
    {
      "cell_type": "markdown",
      "metadata": {
        "id": "NoX-A3wElHoq"
      },
      "source": [
        "Download disini [pelanggan.csv](https://drive.google.com/uc?export=download&id=1jX_rLPfcCfzEEgy9xaoALmpqfU2s5TTB)"
      ]
    },
    {
      "cell_type": "code",
      "source": [
        "import pandas as pd\n",
        "import numpy as np\n",
        "from sklearn.preprocessing import StandardScaler\n",
        "from sklearn.cluster import KMeans\n",
        "from sklearn.metrics import silhouette_score\n",
        "import matplotlib.pyplot as plt\n",
        "import seaborn as sns\n",
        "\n",
        "df = pd.read_csv('/content/drive/MyDrive/Ekskul_AI/Data/pelanggan_supermarket.csv')\n",
        "df.head()"
      ],
      "metadata": {
        "colab": {
          "base_uri": "https://localhost:8080/",
          "height": 206
        },
        "id": "MZZPXXAH79hq",
        "outputId": "4dd232a3-080d-4f13-dc86-1c2e603a0801"
      },
      "execution_count": null,
      "outputs": [
        {
          "output_type": "execute_result",
          "data": {
            "text/plain": [
              "   ID_pelanggan Jenis Kelamin  Umur  Pendapatan pertahun (juta)  \\\n",
              "0             1     Laki-laki  19.0                          15   \n",
              "1             2     Laki-laki  21.0                          15   \n",
              "2             3     Perempuan  20.0                          16   \n",
              "3             4     Perempuan  23.0                          16   \n",
              "4             5     Perempuan  31.0                          17   \n",
              "\n",
              "   Skor Belanja (1-100)  \n",
              "0                  39.0  \n",
              "1                  81.0  \n",
              "2                   6.0  \n",
              "3                  77.0  \n",
              "4                  40.0  "
            ],
            "text/html": [
              "\n",
              "  <div id=\"df-8e7d03a1-cb9f-479f-a7a5-a08b910ce1dd\" class=\"colab-df-container\">\n",
              "    <div>\n",
              "<style scoped>\n",
              "    .dataframe tbody tr th:only-of-type {\n",
              "        vertical-align: middle;\n",
              "    }\n",
              "\n",
              "    .dataframe tbody tr th {\n",
              "        vertical-align: top;\n",
              "    }\n",
              "\n",
              "    .dataframe thead th {\n",
              "        text-align: right;\n",
              "    }\n",
              "</style>\n",
              "<table border=\"1\" class=\"dataframe\">\n",
              "  <thead>\n",
              "    <tr style=\"text-align: right;\">\n",
              "      <th></th>\n",
              "      <th>ID_pelanggan</th>\n",
              "      <th>Jenis Kelamin</th>\n",
              "      <th>Umur</th>\n",
              "      <th>Pendapatan pertahun (juta)</th>\n",
              "      <th>Skor Belanja (1-100)</th>\n",
              "    </tr>\n",
              "  </thead>\n",
              "  <tbody>\n",
              "    <tr>\n",
              "      <th>0</th>\n",
              "      <td>1</td>\n",
              "      <td>Laki-laki</td>\n",
              "      <td>19.0</td>\n",
              "      <td>15</td>\n",
              "      <td>39.0</td>\n",
              "    </tr>\n",
              "    <tr>\n",
              "      <th>1</th>\n",
              "      <td>2</td>\n",
              "      <td>Laki-laki</td>\n",
              "      <td>21.0</td>\n",
              "      <td>15</td>\n",
              "      <td>81.0</td>\n",
              "    </tr>\n",
              "    <tr>\n",
              "      <th>2</th>\n",
              "      <td>3</td>\n",
              "      <td>Perempuan</td>\n",
              "      <td>20.0</td>\n",
              "      <td>16</td>\n",
              "      <td>6.0</td>\n",
              "    </tr>\n",
              "    <tr>\n",
              "      <th>3</th>\n",
              "      <td>4</td>\n",
              "      <td>Perempuan</td>\n",
              "      <td>23.0</td>\n",
              "      <td>16</td>\n",
              "      <td>77.0</td>\n",
              "    </tr>\n",
              "    <tr>\n",
              "      <th>4</th>\n",
              "      <td>5</td>\n",
              "      <td>Perempuan</td>\n",
              "      <td>31.0</td>\n",
              "      <td>17</td>\n",
              "      <td>40.0</td>\n",
              "    </tr>\n",
              "  </tbody>\n",
              "</table>\n",
              "</div>\n",
              "    <div class=\"colab-df-buttons\">\n",
              "\n",
              "  <div class=\"colab-df-container\">\n",
              "    <button class=\"colab-df-convert\" onclick=\"convertToInteractive('df-8e7d03a1-cb9f-479f-a7a5-a08b910ce1dd')\"\n",
              "            title=\"Convert this dataframe to an interactive table.\"\n",
              "            style=\"display:none;\">\n",
              "\n",
              "  <svg xmlns=\"http://www.w3.org/2000/svg\" height=\"24px\" viewBox=\"0 -960 960 960\">\n",
              "    <path d=\"M120-120v-720h720v720H120Zm60-500h600v-160H180v160Zm220 220h160v-160H400v160Zm0 220h160v-160H400v160ZM180-400h160v-160H180v160Zm440 0h160v-160H620v160ZM180-180h160v-160H180v160Zm440 0h160v-160H620v160Z\"/>\n",
              "  </svg>\n",
              "    </button>\n",
              "\n",
              "  <style>\n",
              "    .colab-df-container {\n",
              "      display:flex;\n",
              "      gap: 12px;\n",
              "    }\n",
              "\n",
              "    .colab-df-convert {\n",
              "      background-color: #E8F0FE;\n",
              "      border: none;\n",
              "      border-radius: 50%;\n",
              "      cursor: pointer;\n",
              "      display: none;\n",
              "      fill: #1967D2;\n",
              "      height: 32px;\n",
              "      padding: 0 0 0 0;\n",
              "      width: 32px;\n",
              "    }\n",
              "\n",
              "    .colab-df-convert:hover {\n",
              "      background-color: #E2EBFA;\n",
              "      box-shadow: 0px 1px 2px rgba(60, 64, 67, 0.3), 0px 1px 3px 1px rgba(60, 64, 67, 0.15);\n",
              "      fill: #174EA6;\n",
              "    }\n",
              "\n",
              "    .colab-df-buttons div {\n",
              "      margin-bottom: 4px;\n",
              "    }\n",
              "\n",
              "    [theme=dark] .colab-df-convert {\n",
              "      background-color: #3B4455;\n",
              "      fill: #D2E3FC;\n",
              "    }\n",
              "\n",
              "    [theme=dark] .colab-df-convert:hover {\n",
              "      background-color: #434B5C;\n",
              "      box-shadow: 0px 1px 3px 1px rgba(0, 0, 0, 0.15);\n",
              "      filter: drop-shadow(0px 1px 2px rgba(0, 0, 0, 0.3));\n",
              "      fill: #FFFFFF;\n",
              "    }\n",
              "  </style>\n",
              "\n",
              "    <script>\n",
              "      const buttonEl =\n",
              "        document.querySelector('#df-8e7d03a1-cb9f-479f-a7a5-a08b910ce1dd button.colab-df-convert');\n",
              "      buttonEl.style.display =\n",
              "        google.colab.kernel.accessAllowed ? 'block' : 'none';\n",
              "\n",
              "      async function convertToInteractive(key) {\n",
              "        const element = document.querySelector('#df-8e7d03a1-cb9f-479f-a7a5-a08b910ce1dd');\n",
              "        const dataTable =\n",
              "          await google.colab.kernel.invokeFunction('convertToInteractive',\n",
              "                                                    [key], {});\n",
              "        if (!dataTable) return;\n",
              "\n",
              "        const docLinkHtml = 'Like what you see? Visit the ' +\n",
              "          '<a target=\"_blank\" href=https://colab.research.google.com/notebooks/data_table.ipynb>data table notebook</a>'\n",
              "          + ' to learn more about interactive tables.';\n",
              "        element.innerHTML = '';\n",
              "        dataTable['output_type'] = 'display_data';\n",
              "        await google.colab.output.renderOutput(dataTable, element);\n",
              "        const docLink = document.createElement('div');\n",
              "        docLink.innerHTML = docLinkHtml;\n",
              "        element.appendChild(docLink);\n",
              "      }\n",
              "    </script>\n",
              "  </div>\n",
              "\n",
              "\n",
              "<div id=\"df-0f6567f3-55cb-400f-8cc5-230088a06ccb\">\n",
              "  <button class=\"colab-df-quickchart\" onclick=\"quickchart('df-0f6567f3-55cb-400f-8cc5-230088a06ccb')\"\n",
              "            title=\"Suggest charts\"\n",
              "            style=\"display:none;\">\n",
              "\n",
              "<svg xmlns=\"http://www.w3.org/2000/svg\" height=\"24px\"viewBox=\"0 0 24 24\"\n",
              "     width=\"24px\">\n",
              "    <g>\n",
              "        <path d=\"M19 3H5c-1.1 0-2 .9-2 2v14c0 1.1.9 2 2 2h14c1.1 0 2-.9 2-2V5c0-1.1-.9-2-2-2zM9 17H7v-7h2v7zm4 0h-2V7h2v10zm4 0h-2v-4h2v4z\"/>\n",
              "    </g>\n",
              "</svg>\n",
              "  </button>\n",
              "\n",
              "<style>\n",
              "  .colab-df-quickchart {\n",
              "      --bg-color: #E8F0FE;\n",
              "      --fill-color: #1967D2;\n",
              "      --hover-bg-color: #E2EBFA;\n",
              "      --hover-fill-color: #174EA6;\n",
              "      --disabled-fill-color: #AAA;\n",
              "      --disabled-bg-color: #DDD;\n",
              "  }\n",
              "\n",
              "  [theme=dark] .colab-df-quickchart {\n",
              "      --bg-color: #3B4455;\n",
              "      --fill-color: #D2E3FC;\n",
              "      --hover-bg-color: #434B5C;\n",
              "      --hover-fill-color: #FFFFFF;\n",
              "      --disabled-bg-color: #3B4455;\n",
              "      --disabled-fill-color: #666;\n",
              "  }\n",
              "\n",
              "  .colab-df-quickchart {\n",
              "    background-color: var(--bg-color);\n",
              "    border: none;\n",
              "    border-radius: 50%;\n",
              "    cursor: pointer;\n",
              "    display: none;\n",
              "    fill: var(--fill-color);\n",
              "    height: 32px;\n",
              "    padding: 0;\n",
              "    width: 32px;\n",
              "  }\n",
              "\n",
              "  .colab-df-quickchart:hover {\n",
              "    background-color: var(--hover-bg-color);\n",
              "    box-shadow: 0 1px 2px rgba(60, 64, 67, 0.3), 0 1px 3px 1px rgba(60, 64, 67, 0.15);\n",
              "    fill: var(--button-hover-fill-color);\n",
              "  }\n",
              "\n",
              "  .colab-df-quickchart-complete:disabled,\n",
              "  .colab-df-quickchart-complete:disabled:hover {\n",
              "    background-color: var(--disabled-bg-color);\n",
              "    fill: var(--disabled-fill-color);\n",
              "    box-shadow: none;\n",
              "  }\n",
              "\n",
              "  .colab-df-spinner {\n",
              "    border: 2px solid var(--fill-color);\n",
              "    border-color: transparent;\n",
              "    border-bottom-color: var(--fill-color);\n",
              "    animation:\n",
              "      spin 1s steps(1) infinite;\n",
              "  }\n",
              "\n",
              "  @keyframes spin {\n",
              "    0% {\n",
              "      border-color: transparent;\n",
              "      border-bottom-color: var(--fill-color);\n",
              "      border-left-color: var(--fill-color);\n",
              "    }\n",
              "    20% {\n",
              "      border-color: transparent;\n",
              "      border-left-color: var(--fill-color);\n",
              "      border-top-color: var(--fill-color);\n",
              "    }\n",
              "    30% {\n",
              "      border-color: transparent;\n",
              "      border-left-color: var(--fill-color);\n",
              "      border-top-color: var(--fill-color);\n",
              "      border-right-color: var(--fill-color);\n",
              "    }\n",
              "    40% {\n",
              "      border-color: transparent;\n",
              "      border-right-color: var(--fill-color);\n",
              "      border-top-color: var(--fill-color);\n",
              "    }\n",
              "    60% {\n",
              "      border-color: transparent;\n",
              "      border-right-color: var(--fill-color);\n",
              "    }\n",
              "    80% {\n",
              "      border-color: transparent;\n",
              "      border-right-color: var(--fill-color);\n",
              "      border-bottom-color: var(--fill-color);\n",
              "    }\n",
              "    90% {\n",
              "      border-color: transparent;\n",
              "      border-bottom-color: var(--fill-color);\n",
              "    }\n",
              "  }\n",
              "</style>\n",
              "\n",
              "  <script>\n",
              "    async function quickchart(key) {\n",
              "      const quickchartButtonEl =\n",
              "        document.querySelector('#' + key + ' button');\n",
              "      quickchartButtonEl.disabled = true;  // To prevent multiple clicks.\n",
              "      quickchartButtonEl.classList.add('colab-df-spinner');\n",
              "      try {\n",
              "        const charts = await google.colab.kernel.invokeFunction(\n",
              "            'suggestCharts', [key], {});\n",
              "      } catch (error) {\n",
              "        console.error('Error during call to suggestCharts:', error);\n",
              "      }\n",
              "      quickchartButtonEl.classList.remove('colab-df-spinner');\n",
              "      quickchartButtonEl.classList.add('colab-df-quickchart-complete');\n",
              "    }\n",
              "    (() => {\n",
              "      let quickchartButtonEl =\n",
              "        document.querySelector('#df-0f6567f3-55cb-400f-8cc5-230088a06ccb button');\n",
              "      quickchartButtonEl.style.display =\n",
              "        google.colab.kernel.accessAllowed ? 'block' : 'none';\n",
              "    })();\n",
              "  </script>\n",
              "</div>\n",
              "\n",
              "    </div>\n",
              "  </div>\n"
            ],
            "application/vnd.google.colaboratory.intrinsic+json": {
              "type": "dataframe",
              "variable_name": "df",
              "summary": "{\n  \"name\": \"df\",\n  \"rows\": 250,\n  \"fields\": [\n    {\n      \"column\": \"ID_pelanggan\",\n      \"properties\": {\n        \"dtype\": \"number\",\n        \"std\": 72,\n        \"min\": 1,\n        \"max\": 250,\n        \"num_unique_values\": 250,\n        \"samples\": [\n          143,\n          7,\n          98\n        ],\n        \"semantic_type\": \"\",\n        \"description\": \"\"\n      }\n    },\n    {\n      \"column\": \"Jenis Kelamin\",\n      \"properties\": {\n        \"dtype\": \"category\",\n        \"num_unique_values\": 2,\n        \"samples\": [\n          \"Perempuan\",\n          \"Laki-laki\"\n        ],\n        \"semantic_type\": \"\",\n        \"description\": \"\"\n      }\n    },\n    {\n      \"column\": \"Umur\",\n      \"properties\": {\n        \"dtype\": \"number\",\n        \"std\": 14.3287256489187,\n        \"min\": 18.0,\n        \"max\": 120.0,\n        \"num_unique_values\": 52,\n        \"samples\": [\n          40.0,\n          57.0\n        ],\n        \"semantic_type\": \"\",\n        \"description\": \"\"\n      }\n    },\n    {\n      \"column\": \"Pendapatan pertahun (juta)\",\n      \"properties\": {\n        \"dtype\": \"number\",\n        \"std\": 25,\n        \"min\": 15,\n        \"max\": 137,\n        \"num_unique_values\": 64,\n        \"samples\": [\n          87,\n          101\n        ],\n        \"semantic_type\": \"\",\n        \"description\": \"\"\n      }\n    },\n    {\n      \"column\": \"Skor Belanja (1-100)\",\n      \"properties\": {\n        \"dtype\": \"number\",\n        \"std\": 28.668120938104494,\n        \"min\": 3.0,\n        \"max\": 150.0,\n        \"num_unique_values\": 84,\n        \"samples\": [\n          83.0,\n          39.0\n        ],\n        \"semantic_type\": \"\",\n        \"description\": \"\"\n      }\n    }\n  ]\n}"
            }
          },
          "metadata": {},
          "execution_count": 3
        }
      ]
    },
    {
      "cell_type": "markdown",
      "metadata": {
        "id": "AByM6XoYMkTy"
      },
      "source": [
        "# Soal 2. Clustering data menggunakan k-means clustering\n",
        "\n",
        "Dalam soal ini, kalian diminta untuk melakukan clustering antara data Umur dan Skor Belanja(1-100). Namun, clustering tidak bisa dilakukan karena data memiliki outlier dan missing value. Maka, lakukanlah tahapan-tahapan berikut:\n",
        "\n",
        "*   Handling missing value dengan drop data null\n",
        "*   Handling outlier menggunakan metode Interquartile range\n",
        "*   Lakukan rescaling data menggunakan StandardScaler\n",
        "*   Lakukan clustering menggunakan kmeans clustering dengan k =2, dan visualisasikan..\n",
        "*   Gunakan Elbow method untuk menemukan jumlah k kluster yang tepat\n",
        "*   Gunakan k dari rekomendasi metode Elbow lalu visualisasikan\n",
        "*   Hitung silhoutte Coefficient\n",
        "\n",
        "\n",
        "\n",
        "\n",
        "\n",
        "\n",
        "\n",
        "\n"
      ]
    },
    {
      "cell_type": "code",
      "source": [
        "# code di sini\n",
        "df.isna().sum()"
      ],
      "metadata": {
        "id": "0WcFWqJnT5Vr",
        "colab": {
          "base_uri": "https://localhost:8080/",
          "height": 241
        },
        "outputId": "94830bbf-f966-4610-a2f9-0848b8ac8891"
      },
      "execution_count": null,
      "outputs": [
        {
          "output_type": "execute_result",
          "data": {
            "text/plain": [
              "ID_pelanggan                  0\n",
              "Jenis Kelamin                 0\n",
              "Umur                          5\n",
              "Pendapatan pertahun (juta)    0\n",
              "Skor Belanja (1-100)          4\n",
              "dtype: int64"
            ],
            "text/html": [
              "<div>\n",
              "<style scoped>\n",
              "    .dataframe tbody tr th:only-of-type {\n",
              "        vertical-align: middle;\n",
              "    }\n",
              "\n",
              "    .dataframe tbody tr th {\n",
              "        vertical-align: top;\n",
              "    }\n",
              "\n",
              "    .dataframe thead th {\n",
              "        text-align: right;\n",
              "    }\n",
              "</style>\n",
              "<table border=\"1\" class=\"dataframe\">\n",
              "  <thead>\n",
              "    <tr style=\"text-align: right;\">\n",
              "      <th></th>\n",
              "      <th>0</th>\n",
              "    </tr>\n",
              "  </thead>\n",
              "  <tbody>\n",
              "    <tr>\n",
              "      <th>ID_pelanggan</th>\n",
              "      <td>0</td>\n",
              "    </tr>\n",
              "    <tr>\n",
              "      <th>Jenis Kelamin</th>\n",
              "      <td>0</td>\n",
              "    </tr>\n",
              "    <tr>\n",
              "      <th>Umur</th>\n",
              "      <td>5</td>\n",
              "    </tr>\n",
              "    <tr>\n",
              "      <th>Pendapatan pertahun (juta)</th>\n",
              "      <td>0</td>\n",
              "    </tr>\n",
              "    <tr>\n",
              "      <th>Skor Belanja (1-100)</th>\n",
              "      <td>4</td>\n",
              "    </tr>\n",
              "  </tbody>\n",
              "</table>\n",
              "</div><br><label><b>dtype:</b> int64</label>"
            ]
          },
          "metadata": {},
          "execution_count": 4
        }
      ]
    },
    {
      "cell_type": "code",
      "source": [
        "df.shape"
      ],
      "metadata": {
        "colab": {
          "base_uri": "https://localhost:8080/"
        },
        "id": "vn_Hi8Y50H-v",
        "outputId": "a62d4f67-b45b-437a-8ffb-edd84228b4a4"
      },
      "execution_count": null,
      "outputs": [
        {
          "output_type": "execute_result",
          "data": {
            "text/plain": [
              "(250, 5)"
            ]
          },
          "metadata": {},
          "execution_count": 5
        }
      ]
    },
    {
      "cell_type": "code",
      "source": [
        "# handling missing value with drop null\n",
        "df.dropna(inplace=True)\n",
        "df.shape"
      ],
      "metadata": {
        "colab": {
          "base_uri": "https://localhost:8080/"
        },
        "id": "NvbKQnxFzqW-",
        "outputId": "3c724b54-920a-4c35-9c00-db9c64be454a"
      },
      "execution_count": null,
      "outputs": [
        {
          "output_type": "execute_result",
          "data": {
            "text/plain": [
              "(241, 5)"
            ]
          },
          "metadata": {},
          "execution_count": 6
        }
      ]
    },
    {
      "cell_type": "code",
      "source": [
        "# cek apakah masih ada null di df\n",
        "df.isna().sum()"
      ],
      "metadata": {
        "colab": {
          "base_uri": "https://localhost:8080/",
          "height": 241
        },
        "id": "adwWsH104eBI",
        "outputId": "daca6404-25bd-4238-a5c7-8151bd4b29a9"
      },
      "execution_count": null,
      "outputs": [
        {
          "output_type": "execute_result",
          "data": {
            "text/plain": [
              "ID_pelanggan                  0\n",
              "Jenis Kelamin                 0\n",
              "Umur                          0\n",
              "Pendapatan pertahun (juta)    0\n",
              "Skor Belanja (1-100)          0\n",
              "dtype: int64"
            ],
            "text/html": [
              "<div>\n",
              "<style scoped>\n",
              "    .dataframe tbody tr th:only-of-type {\n",
              "        vertical-align: middle;\n",
              "    }\n",
              "\n",
              "    .dataframe tbody tr th {\n",
              "        vertical-align: top;\n",
              "    }\n",
              "\n",
              "    .dataframe thead th {\n",
              "        text-align: right;\n",
              "    }\n",
              "</style>\n",
              "<table border=\"1\" class=\"dataframe\">\n",
              "  <thead>\n",
              "    <tr style=\"text-align: right;\">\n",
              "      <th></th>\n",
              "      <th>0</th>\n",
              "    </tr>\n",
              "  </thead>\n",
              "  <tbody>\n",
              "    <tr>\n",
              "      <th>ID_pelanggan</th>\n",
              "      <td>0</td>\n",
              "    </tr>\n",
              "    <tr>\n",
              "      <th>Jenis Kelamin</th>\n",
              "      <td>0</td>\n",
              "    </tr>\n",
              "    <tr>\n",
              "      <th>Umur</th>\n",
              "      <td>0</td>\n",
              "    </tr>\n",
              "    <tr>\n",
              "      <th>Pendapatan pertahun (juta)</th>\n",
              "      <td>0</td>\n",
              "    </tr>\n",
              "    <tr>\n",
              "      <th>Skor Belanja (1-100)</th>\n",
              "      <td>0</td>\n",
              "    </tr>\n",
              "  </tbody>\n",
              "</table>\n",
              "</div><br><label><b>dtype:</b> int64</label>"
            ]
          },
          "metadata": {},
          "execution_count": 7
        }
      ]
    },
    {
      "cell_type": "code",
      "source": [
        "sns.histplot(x=df['Umur'], kde=True)"
      ],
      "metadata": {
        "colab": {
          "base_uri": "https://localhost:8080/",
          "height": 467
        },
        "id": "JOkVQvoTozBE",
        "outputId": "0bc4e3d0-88ae-4a1d-a7ed-cc8d49c4c646"
      },
      "execution_count": null,
      "outputs": [
        {
          "output_type": "execute_result",
          "data": {
            "text/plain": [
              "<Axes: xlabel='Umur', ylabel='Count'>"
            ]
          },
          "metadata": {},
          "execution_count": 8
        },
        {
          "output_type": "display_data",
          "data": {
            "text/plain": [
              "<Figure size 640x480 with 1 Axes>"
            ],
            "image/png": "[encoded data removed]"
          },
          "metadata": {}
        }
      ]
    },
    {
      "cell_type": "code",
      "source": [
        "sns.histplot(x=df['Skor Belanja (1-100)'], kde=True)"
      ],
      "metadata": {
        "colab": {
          "base_uri": "https://localhost:8080/",
          "height": 467
        },
        "id": "M2Xg2Xeupjzs",
        "outputId": "47572057-b975-4918-8157-c631790d0009"
      },
      "execution_count": null,
      "outputs": [
        {
          "output_type": "execute_result",
          "data": {
            "text/plain": [
              "<Axes: xlabel='Skor Belanja (1-100)', ylabel='Count'>"
            ]
          },
          "metadata": {},
          "execution_count": 9
        },
        {
          "output_type": "display_data",
          "data": {
            "text/plain": [
              "<Figure size 640x480 with 1 Axes>"
            ],
            "image/png": "[encoded data removed]"
          },
          "metadata": {}
        }
      ]
    },
    {
      "cell_type": "markdown",
      "source": [
        "Yang cek outlier ini saya hanya ber-eksperimental saja, langsung saja ke metode interquartile range untuk menghandle outlier"
      ],
      "metadata": {
        "id": "XoFYTj2UBEqJ"
      }
    },
    {
      "cell_type": "code",
      "source": [
        "# cek outlier dengan z score ( berapa banyak deviasi standar dari mean )\n",
        "# untuk umur\n",
        "mean_umur = np.mean(df['Umur'])\n",
        "std_umur = np.std(df['Umur'])\n",
        "z_score_umur = (df['Umur'] - mean_umur) / std_umur\n",
        "z_score_umur"
      ],
      "metadata": {
        "colab": {
          "base_uri": "https://localhost:8080/",
          "height": 458
        },
        "id": "cMw5po9c7FTH",
        "outputId": "5304495e-fa75-4e67-be84-85db811027b0"
      },
      "execution_count": null,
      "outputs": [
        {
          "output_type": "execute_result",
          "data": {
            "text/plain": [
              "0     -1.383732\n",
              "1     -1.244172\n",
              "2     -1.313952\n",
              "3     -1.104612\n",
              "4     -0.546370\n",
              "         ...   \n",
              "245    1.407475\n",
              "246   -0.267249\n",
              "247   -0.127689\n",
              "248   -0.476590\n",
              "249    5.664067\n",
              "Name: Umur, Length: 241, dtype: float64"
            ],
            "text/html": [
              "<div>\n",
              "<style scoped>\n",
              "    .dataframe tbody tr th:only-of-type {\n",
              "        vertical-align: middle;\n",
              "    }\n",
              "\n",
              "    .dataframe tbody tr th {\n",
              "        vertical-align: top;\n",
              "    }\n",
              "\n",
              "    .dataframe thead th {\n",
              "        text-align: right;\n",
              "    }\n",
              "</style>\n",
              "<table border=\"1\" class=\"dataframe\">\n",
              "  <thead>\n",
              "    <tr style=\"text-align: right;\">\n",
              "      <th></th>\n",
              "      <th>Umur</th>\n",
              "    </tr>\n",
              "  </thead>\n",
              "  <tbody>\n",
              "    <tr>\n",
              "      <th>0</th>\n",
              "      <td>-1.383732</td>\n",
              "    </tr>\n",
              "    <tr>\n",
              "      <th>1</th>\n",
              "      <td>-1.244172</td>\n",
              "    </tr>\n",
              "    <tr>\n",
              "      <th>2</th>\n",
              "      <td>-1.313952</td>\n",
              "    </tr>\n",
              "    <tr>\n",
              "      <th>3</th>\n",
              "      <td>-1.104612</td>\n",
              "    </tr>\n",
              "    <tr>\n",
              "      <th>4</th>\n",
              "      <td>-0.546370</td>\n",
              "    </tr>\n",
              "    <tr>\n",
              "      <th>...</th>\n",
              "      <td>...</td>\n",
              "    </tr>\n",
              "    <tr>\n",
              "      <th>245</th>\n",
              "      <td>1.407475</td>\n",
              "    </tr>\n",
              "    <tr>\n",
              "      <th>246</th>\n",
              "      <td>-0.267249</td>\n",
              "    </tr>\n",
              "    <tr>\n",
              "      <th>247</th>\n",
              "      <td>-0.127689</td>\n",
              "    </tr>\n",
              "    <tr>\n",
              "      <th>248</th>\n",
              "      <td>-0.476590</td>\n",
              "    </tr>\n",
              "    <tr>\n",
              "      <th>249</th>\n",
              "      <td>5.664067</td>\n",
              "    </tr>\n",
              "  </tbody>\n",
              "</table>\n",
              "<p>241 rows × 1 columns</p>\n",
              "</div><br><label><b>dtype:</b> float64</label>"
            ]
          },
          "metadata": {},
          "execution_count": 10
        }
      ]
    },
    {
      "cell_type": "code",
      "source": [
        "z_score_umur.mean()"
      ],
      "metadata": {
        "colab": {
          "base_uri": "https://localhost:8080/"
        },
        "id": "C5hfhIobAprt",
        "outputId": "bbaf23fa-08f5-4261-c3aa-9062b50eab16"
      },
      "execution_count": null,
      "outputs": [
        {
          "output_type": "execute_result",
          "data": {
            "text/plain": [
              "1.9901093221496583e-16"
            ]
          },
          "metadata": {},
          "execution_count": 11
        }
      ]
    },
    {
      "cell_type": "code",
      "source": [
        "sns.boxplot(x=z_score_umur)"
      ],
      "metadata": {
        "colab": {
          "base_uri": "https://localhost:8080/",
          "height": 467
        },
        "id": "cj6UsnLX_NhV",
        "outputId": "0ee0e4de-8bda-4946-e49d-76d5cffcb9f8"
      },
      "execution_count": null,
      "outputs": [
        {
          "output_type": "execute_result",
          "data": {
            "text/plain": [
              "<Axes: xlabel='Umur'>"
            ]
          },
          "metadata": {},
          "execution_count": 12
        },
        {
          "output_type": "display_data",
          "data": {
            "text/plain": [
              "<Figure size 640x480 with 1 Axes>"
            ],
            "image/png": "[encoded data removed]"
          },
          "metadata": {}
        }
      ]
    },
    {
      "cell_type": "code",
      "source": [
        "# untuk skor belanja ( 1 - 100)\n",
        "mean_skor = np.mean(df['Skor Belanja (1-100)'])\n",
        "std_skor = np.std(df['Skor Belanja (1-100)'])\n",
        "z_score_skor = (df['Skor Belanja (1-100)'] - mean_skor) / std_skor\n",
        "z_score_skor"
      ],
      "metadata": {
        "colab": {
          "base_uri": "https://localhost:8080/",
          "height": 458
        },
        "id": "rXP0weND-3DI",
        "outputId": "71b82a48-87be-41a5-88cf-3157d6b0b67e"
      },
      "execution_count": null,
      "outputs": [
        {
          "output_type": "execute_result",
          "data": {
            "text/plain": [
              "0     -0.399513\n",
              "1      1.077969\n",
              "2     -1.560391\n",
              "3      0.937256\n",
              "4     -0.364335\n",
              "         ...   \n",
              "245   -1.278966\n",
              "246    1.394572\n",
              "247   -0.645760\n",
              "248    1.253860\n",
              "249   -1.243788\n",
              "Name: Skor Belanja (1-100), Length: 241, dtype: float64"
            ],
            "text/html": [
              "<div>\n",
              "<style scoped>\n",
              "    .dataframe tbody tr th:only-of-type {\n",
              "        vertical-align: middle;\n",
              "    }\n",
              "\n",
              "    .dataframe tbody tr th {\n",
              "        vertical-align: top;\n",
              "    }\n",
              "\n",
              "    .dataframe thead th {\n",
              "        text-align: right;\n",
              "    }\n",
              "</style>\n",
              "<table border=\"1\" class=\"dataframe\">\n",
              "  <thead>\n",
              "    <tr style=\"text-align: right;\">\n",
              "      <th></th>\n",
              "      <th>Skor Belanja (1-100)</th>\n",
              "    </tr>\n",
              "  </thead>\n",
              "  <tbody>\n",
              "    <tr>\n",
              "      <th>0</th>\n",
              "      <td>-0.399513</td>\n",
              "    </tr>\n",
              "    <tr>\n",
              "      <th>1</th>\n",
              "      <td>1.077969</td>\n",
              "    </tr>\n",
              "    <tr>\n",
              "      <th>2</th>\n",
              "      <td>-1.560391</td>\n",
              "    </tr>\n",
              "    <tr>\n",
              "      <th>3</th>\n",
              "      <td>0.937256</td>\n",
              "    </tr>\n",
              "    <tr>\n",
              "      <th>4</th>\n",
              "      <td>-0.364335</td>\n",
              "    </tr>\n",
              "    <tr>\n",
              "      <th>...</th>\n",
              "      <td>...</td>\n",
              "    </tr>\n",
              "    <tr>\n",
              "      <th>245</th>\n",
              "      <td>-1.278966</td>\n",
              "    </tr>\n",
              "    <tr>\n",
              "      <th>246</th>\n",
              "      <td>1.394572</td>\n",
              "    </tr>\n",
              "    <tr>\n",
              "      <th>247</th>\n",
              "      <td>-0.645760</td>\n",
              "    </tr>\n",
              "    <tr>\n",
              "      <th>248</th>\n",
              "      <td>1.253860</td>\n",
              "    </tr>\n",
              "    <tr>\n",
              "      <th>249</th>\n",
              "      <td>-1.243788</td>\n",
              "    </tr>\n",
              "  </tbody>\n",
              "</table>\n",
              "<p>241 rows × 1 columns</p>\n",
              "</div><br><label><b>dtype:</b> float64</label>"
            ]
          },
          "metadata": {},
          "execution_count": 13
        }
      ]
    },
    {
      "cell_type": "code",
      "source": [
        "sns.boxplot(x=z_score_skor)"
      ],
      "metadata": {
        "colab": {
          "base_uri": "https://localhost:8080/",
          "height": 467
        },
        "id": "jh0z2vJcByj3",
        "outputId": "85c69eda-a126-459f-ae6c-281d3082ed8e"
      },
      "execution_count": null,
      "outputs": [
        {
          "output_type": "execute_result",
          "data": {
            "text/plain": [
              "<Axes: xlabel='Skor Belanja (1-100)'>"
            ]
          },
          "metadata": {},
          "execution_count": 14
        },
        {
          "output_type": "display_data",
          "data": {
            "text/plain": [
              "<Figure size 640x480 with 1 Axes>"
            ],
            "image/png": "[encoded data removed]"
          },
          "metadata": {}
        }
      ]
    },
    {
      "cell_type": "code",
      "source": [
        "z_score_skor.mean()"
      ],
      "metadata": {
        "colab": {
          "base_uri": "https://localhost:8080/"
        },
        "id": "SHNQzrwxBjoA",
        "outputId": "b74b9ef2-c357-444a-ce78-d43ddc617bc4"
      },
      "execution_count": null,
      "outputs": [
        {
          "output_type": "execute_result",
          "data": {
            "text/plain": [
              "3.869657015291002e-17"
            ]
          },
          "metadata": {},
          "execution_count": 15
        }
      ]
    },
    {
      "cell_type": "code",
      "source": [
        "df_z_skor = pd.DataFrame({'Umur': z_score_umur, 'Skor Belanja (1-100)': z_score_skor})\n",
        "df_z_skor.head()"
      ],
      "metadata": {
        "colab": {
          "base_uri": "https://localhost:8080/",
          "height": 206
        },
        "id": "x_Apdm7TB_sJ",
        "outputId": "af1109b1-9f4f-43ca-a418-5d1eaaf55b0b"
      },
      "execution_count": null,
      "outputs": [
        {
          "output_type": "execute_result",
          "data": {
            "text/plain": [
              "       Umur  Skor Belanja (1-100)\n",
              "0 -1.383732             -0.399513\n",
              "1 -1.244172              1.077969\n",
              "2 -1.313952             -1.560391\n",
              "3 -1.104612              0.937256\n",
              "4 -0.546370             -0.364335"
            ],
            "text/html": [
              "\n",
              "  <div id=\"df-7f889c90-9d0d-4249-9354-f897b172587c\" class=\"colab-df-container\">\n",
              "    <div>\n",
              "<style scoped>\n",
              "    .dataframe tbody tr th:only-of-type {\n",
              "        vertical-align: middle;\n",
              "    }\n",
              "\n",
              "    .dataframe tbody tr th {\n",
              "        vertical-align: top;\n",
              "    }\n",
              "\n",
              "    .dataframe thead th {\n",
              "        text-align: right;\n",
              "    }\n",
              "</style>\n",
              "<table border=\"1\" class=\"dataframe\">\n",
              "  <thead>\n",
              "    <tr style=\"text-align: right;\">\n",
              "      <th></th>\n",
              "      <th>Umur</th>\n",
              "      <th>Skor Belanja (1-100)</th>\n",
              "    </tr>\n",
              "  </thead>\n",
              "  <tbody>\n",
              "    <tr>\n",
              "      <th>0</th>\n",
              "      <td>-1.383732</td>\n",
              "      <td>-0.399513</td>\n",
              "    </tr>\n",
              "    <tr>\n",
              "      <th>1</th>\n",
              "      <td>-1.244172</td>\n",
              "      <td>1.077969</td>\n",
              "    </tr>\n",
              "    <tr>\n",
              "      <th>2</th>\n",
              "      <td>-1.313952</td>\n",
              "      <td>-1.560391</td>\n",
              "    </tr>\n",
              "    <tr>\n",
              "      <th>3</th>\n",
              "      <td>-1.104612</td>\n",
              "      <td>0.937256</td>\n",
              "    </tr>\n",
              "    <tr>\n",
              "      <th>4</th>\n",
              "      <td>-0.546370</td>\n",
              "      <td>-0.364335</td>\n",
              "    </tr>\n",
              "  </tbody>\n",
              "</table>\n",
              "</div>\n",
              "    <div class=\"colab-df-buttons\">\n",
              "\n",
              "  <div class=\"colab-df-container\">\n",
              "    <button class=\"colab-df-convert\" onclick=\"convertToInteractive('df-7f889c90-9d0d-4249-9354-f897b172587c')\"\n",
              "            title=\"Convert this dataframe to an interactive table.\"\n",
              "            style=\"display:none;\">\n",
              "\n",
              "  <svg xmlns=\"http://www.w3.org/2000/svg\" height=\"24px\" viewBox=\"0 -960 960 960\">\n",
              "    <path d=\"M120-120v-720h720v720H120Zm60-500h600v-160H180v160Zm220 220h160v-160H400v160Zm0 220h160v-160H400v160ZM180-400h160v-160H180v160Zm440 0h160v-160H620v160ZM180-180h160v-160H180v160Zm440 0h160v-160H620v160Z\"/>\n",
              "  </svg>\n",
              "    </button>\n",
              "\n",
              "  <style>\n",
              "    .colab-df-container {\n",
              "      display:flex;\n",
              "      gap: 12px;\n",
              "    }\n",
              "\n",
              "    .colab-df-convert {\n",
              "      background-color: #E8F0FE;\n",
              "      border: none;\n",
              "      border-radius: 50%;\n",
              "      cursor: pointer;\n",
              "      display: none;\n",
              "      fill: #1967D2;\n",
              "      height: 32px;\n",
              "      padding: 0 0 0 0;\n",
              "      width: 32px;\n",
              "    }\n",
              "\n",
              "    .colab-df-convert:hover {\n",
              "      background-color: #E2EBFA;\n",
              "      box-shadow: 0px 1px 2px rgba(60, 64, 67, 0.3), 0px 1px 3px 1px rgba(60, 64, 67, 0.15);\n",
              "      fill: #174EA6;\n",
              "    }\n",
              "\n",
              "    .colab-df-buttons div {\n",
              "      margin-bottom: 4px;\n",
              "    }\n",
              "\n",
              "    [theme=dark] .colab-df-convert {\n",
              "      background-color: #3B4455;\n",
              "      fill: #D2E3FC;\n",
              "    }\n",
              "\n",
              "    [theme=dark] .colab-df-convert:hover {\n",
              "      background-color: #434B5C;\n",
              "      box-shadow: 0px 1px 3px 1px rgba(0, 0, 0, 0.15);\n",
              "      filter: drop-shadow(0px 1px 2px rgba(0, 0, 0, 0.3));\n",
              "      fill: #FFFFFF;\n",
              "    }\n",
              "  </style>\n",
              "\n",
              "    <script>\n",
              "      const buttonEl =\n",
              "        document.querySelector('#df-7f889c90-9d0d-4249-9354-f897b172587c button.colab-df-convert');\n",
              "      buttonEl.style.display =\n",
              "        google.colab.kernel.accessAllowed ? 'block' : 'none';\n",
              "\n",
              "      async function convertToInteractive(key) {\n",
              "        const element = document.querySelector('#df-7f889c90-9d0d-4249-9354-f897b172587c');\n",
              "        const dataTable =\n",
              "          await google.colab.kernel.invokeFunction('convertToInteractive',\n",
              "                                                    [key], {});\n",
              "        if (!dataTable) return;\n",
              "\n",
              "        const docLinkHtml = 'Like what you see? Visit the ' +\n",
              "          '<a target=\"_blank\" href=https://colab.research.google.com/notebooks/data_table.ipynb>data table notebook</a>'\n",
              "          + ' to learn more about interactive tables.';\n",
              "        element.innerHTML = '';\n",
              "        dataTable['output_type'] = 'display_data';\n",
              "        await google.colab.output.renderOutput(dataTable, element);\n",
              "        const docLink = document.createElement('div');\n",
              "        docLink.innerHTML = docLinkHtml;\n",
              "        element.appendChild(docLink);\n",
              "      }\n",
              "    </script>\n",
              "  </div>\n",
              "\n",
              "\n",
              "<div id=\"df-499b2f41-4647-483f-b6f9-0c12398b8af7\">\n",
              "  <button class=\"colab-df-quickchart\" onclick=\"quickchart('df-499b2f41-4647-483f-b6f9-0c12398b8af7')\"\n",
              "            title=\"Suggest charts\"\n",
              "            style=\"display:none;\">\n",
              "\n",
              "<svg xmlns=\"http://www.w3.org/2000/svg\" height=\"24px\"viewBox=\"0 0 24 24\"\n",
              "     width=\"24px\">\n",
              "    <g>\n",
              "        <path d=\"M19 3H5c-1.1 0-2 .9-2 2v14c0 1.1.9 2 2 2h14c1.1 0 2-.9 2-2V5c0-1.1-.9-2-2-2zM9 17H7v-7h2v7zm4 0h-2V7h2v10zm4 0h-2v-4h2v4z\"/>\n",
              "    </g>\n",
              "</svg>\n",
              "  </button>\n",
              "\n",
              "<style>\n",
              "  .colab-df-quickchart {\n",
              "      --bg-color: #E8F0FE;\n",
              "      --fill-color: #1967D2;\n",
              "      --hover-bg-color: #E2EBFA;\n",
              "      --hover-fill-color: #174EA6;\n",
              "      --disabled-fill-color: #AAA;\n",
              "      --disabled-bg-color: #DDD;\n",
              "  }\n",
              "\n",
              "  [theme=dark] .colab-df-quickchart {\n",
              "      --bg-color: #3B4455;\n",
              "      --fill-color: #D2E3FC;\n",
              "      --hover-bg-color: #434B5C;\n",
              "      --hover-fill-color: #FFFFFF;\n",
              "      --disabled-bg-color: #3B4455;\n",
              "      --disabled-fill-color: #666;\n",
              "  }\n",
              "\n",
              "  .colab-df-quickchart {\n",
              "    background-color: var(--bg-color);\n",
              "    border: none;\n",
              "    border-radius: 50%;\n",
              "    cursor: pointer;\n",
              "    display: none;\n",
              "    fill: var(--fill-color);\n",
              "    height: 32px;\n",
              "    padding: 0;\n",
              "    width: 32px;\n",
              "  }\n",
              "\n",
              "  .colab-df-quickchart:hover {\n",
              "    background-color: var(--hover-bg-color);\n",
              "    box-shadow: 0 1px 2px rgba(60, 64, 67, 0.3), 0 1px 3px 1px rgba(60, 64, 67, 0.15);\n",
              "    fill: var(--button-hover-fill-color);\n",
              "  }\n",
              "\n",
              "  .colab-df-quickchart-complete:disabled,\n",
              "  .colab-df-quickchart-complete:disabled:hover {\n",
              "    background-color: var(--disabled-bg-color);\n",
              "    fill: var(--disabled-fill-color);\n",
              "    box-shadow: none;\n",
              "  }\n",
              "\n",
              "  .colab-df-spinner {\n",
              "    border: 2px solid var(--fill-color);\n",
              "    border-color: transparent;\n",
              "    border-bottom-color: var(--fill-color);\n",
              "    animation:\n",
              "      spin 1s steps(1) infinite;\n",
              "  }\n",
              "\n",
              "  @keyframes spin {\n",
              "    0% {\n",
              "      border-color: transparent;\n",
              "      border-bottom-color: var(--fill-color);\n",
              "      border-left-color: var(--fill-color);\n",
              "    }\n",
              "    20% {\n",
              "      border-color: transparent;\n",
              "      border-left-color: var(--fill-color);\n",
              "      border-top-color: var(--fill-color);\n",
              "    }\n",
              "    30% {\n",
              "      border-color: transparent;\n",
              "      border-left-color: var(--fill-color);\n",
              "      border-top-color: var(--fill-color);\n",
              "      border-right-color: var(--fill-color);\n",
              "    }\n",
              "    40% {\n",
              "      border-color: transparent;\n",
              "      border-right-color: var(--fill-color);\n",
              "      border-top-color: var(--fill-color);\n",
              "    }\n",
              "    60% {\n",
              "      border-color: transparent;\n",
              "      border-right-color: var(--fill-color);\n",
              "    }\n",
              "    80% {\n",
              "      border-color: transparent;\n",
              "      border-right-color: var(--fill-color);\n",
              "      border-bottom-color: var(--fill-color);\n",
              "    }\n",
              "    90% {\n",
              "      border-color: transparent;\n",
              "      border-bottom-color: var(--fill-color);\n",
              "    }\n",
              "  }\n",
              "</style>\n",
              "\n",
              "  <script>\n",
              "    async function quickchart(key) {\n",
              "      const quickchartButtonEl =\n",
              "        document.querySelector('#' + key + ' button');\n",
              "      quickchartButtonEl.disabled = true;  // To prevent multiple clicks.\n",
              "      quickchartButtonEl.classList.add('colab-df-spinner');\n",
              "      try {\n",
              "        const charts = await google.colab.kernel.invokeFunction(\n",
              "            'suggestCharts', [key], {});\n",
              "      } catch (error) {\n",
              "        console.error('Error during call to suggestCharts:', error);\n",
              "      }\n",
              "      quickchartButtonEl.classList.remove('colab-df-spinner');\n",
              "      quickchartButtonEl.classList.add('colab-df-quickchart-complete');\n",
              "    }\n",
              "    (() => {\n",
              "      let quickchartButtonEl =\n",
              "        document.querySelector('#df-499b2f41-4647-483f-b6f9-0c12398b8af7 button');\n",
              "      quickchartButtonEl.style.display =\n",
              "        google.colab.kernel.accessAllowed ? 'block' : 'none';\n",
              "    })();\n",
              "  </script>\n",
              "</div>\n",
              "\n",
              "    </div>\n",
              "  </div>\n"
            ],
            "application/vnd.google.colaboratory.intrinsic+json": {
              "type": "dataframe",
              "variable_name": "df_z_skor",
              "summary": "{\n  \"name\": \"df_z_skor\",\n  \"rows\": 241,\n  \"fields\": [\n    {\n      \"column\": \"Umur\",\n      \"properties\": {\n        \"dtype\": \"number\",\n        \"std\": 1.002081167703827,\n        \"min\": -1.453512629329459,\n        \"max\": 5.664066544809339,\n        \"num_unique_values\": 52,\n        \"samples\": [\n          0.08165150626910528,\n          1.2679147019589048,\n          0.36077225819611697\n        ],\n        \"semantic_type\": \"\",\n        \"description\": \"\"\n      }\n    },\n    {\n      \"column\": \"Skor Belanja (1-100)\",\n      \"properties\": {\n        \"dtype\": \"number\",\n        \"std\": 1.0020811677038273,\n        \"min\": -1.6659254422465761,\n        \"max\": 3.505260104276639,\n        \"num_unique_values\": 83,\n        \"samples\": [\n          0.8669001315607129,\n          -0.39951265534293157,\n          -0.6457595861297514\n        ],\n        \"semantic_type\": \"\",\n        \"description\": \"\"\n      }\n    }\n  ]\n}"
            }
          },
          "metadata": {},
          "execution_count": 16
        }
      ]
    },
    {
      "cell_type": "code",
      "source": [
        "sns.boxplot(x=df_z_skor['Umur'], y=df_z_skor['Skor Belanja (1-100)'])"
      ],
      "metadata": {
        "colab": {
          "base_uri": "https://localhost:8080/",
          "height": 467
        },
        "id": "nMnCkV6wDTOn",
        "outputId": "39d5fa55-7b40-42ec-ad49-22e44be9db6e"
      },
      "execution_count": null,
      "outputs": [
        {
          "output_type": "execute_result",
          "data": {
            "text/plain": [
              "<Axes: xlabel='Umur', ylabel='Skor Belanja (1-100)'>"
            ]
          },
          "metadata": {},
          "execution_count": 17
        },
        {
          "output_type": "display_data",
          "data": {
            "text/plain": [
              "<Figure size 640x480 with 1 Axes>"
            ],
            "image/png": "[encoded data removed]"
          },
          "metadata": {}
        }
      ]
    },
    {
      "cell_type": "code",
      "source": [
        "# Handling outlier menggunakan metode Interquartile range\n",
        "q1Umur = df['Umur'].quantile(0.25)\n",
        "q3Umur = df['Umur'].quantile(0.75)\n",
        "q1Skor = df['Skor Belanja (1-100)'].quantile(0.25)\n",
        "q3Skor = df['Skor Belanja (1-100)'].quantile(0.75)\n",
        "print(f\"q1 Umur : {q1Umur} dan q3 Umur : {q3Umur}\")\n",
        "print(f\"q1 Skor : {q1Skor} dan q3 Skor : {q3Skor}\")"
      ],
      "metadata": {
        "colab": {
          "base_uri": "https://localhost:8080/"
        },
        "id": "QrKeiURKG1Qd",
        "outputId": "5cd038e1-5ee7-4a23-d8fb-b7076ecc059f"
      },
      "execution_count": null,
      "outputs": [
        {
          "output_type": "stream",
          "name": "stdout",
          "text": [
            "q1 Umur : 29.0 dan q3 Umur : 48.0\n",
            "q1 Skor : 27.0 dan q3 Skor : 74.0\n"
          ]
        }
      ]
    },
    {
      "cell_type": "code",
      "source": [
        "iqrUmur = q3Umur - q1Umur\n",
        "iqrSkor = q3Skor - q1Skor\n",
        "print(f\"iqr Umur : {iqrUmur}\")\n",
        "print(f\"iqr Skor : {iqrSkor}\")"
      ],
      "metadata": {
        "colab": {
          "base_uri": "https://localhost:8080/"
        },
        "id": "W2JqZwPgIHhy",
        "outputId": "14c578e5-2b1a-4942-bbb3-c79f7e7c8aff"
      },
      "execution_count": null,
      "outputs": [
        {
          "output_type": "stream",
          "name": "stdout",
          "text": [
            "iqr Umur : 19.0\n",
            "iqr Skor : 47.0\n"
          ]
        }
      ]
    },
    {
      "cell_type": "code",
      "source": [
        "lowerUmur = q1Umur - 1.5 * iqrUmur\n",
        "upperUmur = q3Umur + 1.5 * iqrUmur\n",
        "lowerSkor = q1Skor - 1.5 * iqrSkor\n",
        "upperSkor = q3Skor + 1.5 * iqrSkor\n",
        "print(f\"lower Umur : {lowerUmur} dan upper Umur : {upperUmur}\")\n",
        "print(f\"lower Skor : {lowerSkor} dan upper Skor : {upperSkor}\")"
      ],
      "metadata": {
        "colab": {
          "base_uri": "https://localhost:8080/"
        },
        "id": "k2iKtkgyIKWZ",
        "outputId": "c7c0dba4-a344-4abe-d875-53c7f83c5137"
      },
      "execution_count": null,
      "outputs": [
        {
          "output_type": "stream",
          "name": "stdout",
          "text": [
            "lower Umur : 0.5 dan upper Umur : 76.5\n",
            "lower Skor : -43.5 dan upper Skor : 144.5\n"
          ]
        }
      ]
    },
    {
      "cell_type": "code",
      "source": [
        "df_trim = df[(df['Umur'] > lowerUmur) & (df['Umur'] <upperUmur) & (df['Skor Belanja (1-100)'] > lowerSkor) & (df['Skor Belanja (1-100)'] < upperSkor)]\n",
        "df_trim"
      ],
      "metadata": {
        "colab": {
          "base_uri": "https://localhost:8080/",
          "height": 423
        },
        "id": "-byCk0DWKGDs",
        "outputId": "ab65aed4-6700-45b9-fac8-2152174527d9"
      },
      "execution_count": null,
      "outputs": [
        {
          "output_type": "execute_result",
          "data": {
            "text/plain": [
              "     ID_pelanggan Jenis Kelamin  Umur  Pendapatan pertahun (juta)  \\\n",
              "0               1     Laki-laki  19.0                          15   \n",
              "1               2     Laki-laki  21.0                          15   \n",
              "2               3     Perempuan  20.0                          16   \n",
              "3               4     Perempuan  23.0                          16   \n",
              "4               5     Perempuan  31.0                          17   \n",
              "..            ...           ...   ...                         ...   \n",
              "244           245     Laki-laki  27.0                          88   \n",
              "245           246     Laki-laki  59.0                          93   \n",
              "246           247     Laki-laki  35.0                          93   \n",
              "247           248     Perempuan  37.0                          97   \n",
              "248           249     Perempuan  32.0                          97   \n",
              "\n",
              "     Skor Belanja (1-100)  \n",
              "0                    39.0  \n",
              "1                    81.0  \n",
              "2                     6.0  \n",
              "3                    77.0  \n",
              "4                    40.0  \n",
              "..                    ...  \n",
              "244                  69.0  \n",
              "245                  14.0  \n",
              "246                  90.0  \n",
              "247                  32.0  \n",
              "248                  86.0  \n",
              "\n",
              "[239 rows x 5 columns]"
            ],
            "text/html": [
              "\n",
              "  <div id=\"df-bec1ba94-36dc-4964-afb6-a5256ed07b0f\" class=\"colab-df-container\">\n",
              "    <div>\n",
              "<style scoped>\n",
              "    .dataframe tbody tr th:only-of-type {\n",
              "        vertical-align: middle;\n",
              "    }\n",
              "\n",
              "    .dataframe tbody tr th {\n",
              "        vertical-align: top;\n",
              "    }\n",
              "\n",
              "    .dataframe thead th {\n",
              "        text-align: right;\n",
              "    }\n",
              "</style>\n",
              "<table border=\"1\" class=\"dataframe\">\n",
              "  <thead>\n",
              "    <tr style=\"text-align: right;\">\n",
              "      <th></th>\n",
              "      <th>ID_pelanggan</th>\n",
              "      <th>Jenis Kelamin</th>\n",
              "      <th>Umur</th>\n",
              "      <th>Pendapatan pertahun (juta)</th>\n",
              "      <th>Skor Belanja (1-100)</th>\n",
              "    </tr>\n",
              "  </thead>\n",
              "  <tbody>\n",
              "    <tr>\n",
              "      <th>0</th>\n",
              "      <td>1</td>\n",
              "      <td>Laki-laki</td>\n",
              "      <td>19.0</td>\n",
              "      <td>15</td>\n",
              "      <td>39.0</td>\n",
              "    </tr>\n",
              "    <tr>\n",
              "      <th>1</th>\n",
              "      <td>2</td>\n",
              "      <td>Laki-laki</td>\n",
              "      <td>21.0</td>\n",
              "      <td>15</td>\n",
              "      <td>81.0</td>\n",
              "    </tr>\n",
              "    <tr>\n",
              "      <th>2</th>\n",
              "      <td>3</td>\n",
              "      <td>Perempuan</td>\n",
              "      <td>20.0</td>\n",
              "      <td>16</td>\n",
              "      <td>6.0</td>\n",
              "    </tr>\n",
              "    <tr>\n",
              "      <th>3</th>\n",
              "      <td>4</td>\n",
              "      <td>Perempuan</td>\n",
              "      <td>23.0</td>\n",
              "      <td>16</td>\n",
              "      <td>77.0</td>\n",
              "    </tr>\n",
              "    <tr>\n",
              "      <th>4</th>\n",
              "      <td>5</td>\n",
              "      <td>Perempuan</td>\n",
              "      <td>31.0</td>\n",
              "      <td>17</td>\n",
              "      <td>40.0</td>\n",
              "    </tr>\n",
              "    <tr>\n",
              "      <th>...</th>\n",
              "      <td>...</td>\n",
              "      <td>...</td>\n",
              "      <td>...</td>\n",
              "      <td>...</td>\n",
              "      <td>...</td>\n",
              "    </tr>\n",
              "    <tr>\n",
              "      <th>244</th>\n",
              "      <td>245</td>\n",
              "      <td>Laki-laki</td>\n",
              "      <td>27.0</td>\n",
              "      <td>88</td>\n",
              "      <td>69.0</td>\n",
              "    </tr>\n",
              "    <tr>\n",
              "      <th>245</th>\n",
              "      <td>246</td>\n",
              "      <td>Laki-laki</td>\n",
              "      <td>59.0</td>\n",
              "      <td>93</td>\n",
              "      <td>14.0</td>\n",
              "    </tr>\n",
              "    <tr>\n",
              "      <th>246</th>\n",
              "      <td>247</td>\n",
              "      <td>Laki-laki</td>\n",
              "      <td>35.0</td>\n",
              "      <td>93</td>\n",
              "      <td>90.0</td>\n",
              "    </tr>\n",
              "    <tr>\n",
              "      <th>247</th>\n",
              "      <td>248</td>\n",
              "      <td>Perempuan</td>\n",
              "      <td>37.0</td>\n",
              "      <td>97</td>\n",
              "      <td>32.0</td>\n",
              "    </tr>\n",
              "    <tr>\n",
              "      <th>248</th>\n",
              "      <td>249</td>\n",
              "      <td>Perempuan</td>\n",
              "      <td>32.0</td>\n",
              "      <td>97</td>\n",
              "      <td>86.0</td>\n",
              "    </tr>\n",
              "  </tbody>\n",
              "</table>\n",
              "<p>239 rows × 5 columns</p>\n",
              "</div>\n",
              "    <div class=\"colab-df-buttons\">\n",
              "\n",
              "  <div class=\"colab-df-container\">\n",
              "    <button class=\"colab-df-convert\" onclick=\"convertToInteractive('df-bec1ba94-36dc-4964-afb6-a5256ed07b0f')\"\n",
              "            title=\"Convert this dataframe to an interactive table.\"\n",
              "            style=\"display:none;\">\n",
              "\n",
              "  <svg xmlns=\"http://www.w3.org/2000/svg\" height=\"24px\" viewBox=\"0 -960 960 960\">\n",
              "    <path d=\"M120-120v-720h720v720H120Zm60-500h600v-160H180v160Zm220 220h160v-160H400v160Zm0 220h160v-160H400v160ZM180-400h160v-160H180v160Zm440 0h160v-160H620v160ZM180-180h160v-160H180v160Zm440 0h160v-160H620v160Z\"/>\n",
              "  </svg>\n",
              "    </button>\n",
              "\n",
              "  <style>\n",
              "    .colab-df-container {\n",
              "      display:flex;\n",
              "      gap: 12px;\n",
              "    }\n",
              "\n",
              "    .colab-df-convert {\n",
              "      background-color: #E8F0FE;\n",
              "      border: none;\n",
              "      border-radius: 50%;\n",
              "      cursor: pointer;\n",
              "      display: none;\n",
              "      fill: #1967D2;\n",
              "      height: 32px;\n",
              "      padding: 0 0 0 0;\n",
              "      width: 32px;\n",
              "    }\n",
              "\n",
              "    .colab-df-convert:hover {\n",
              "      background-color: #E2EBFA;\n",
              "      box-shadow: 0px 1px 2px rgba(60, 64, 67, 0.3), 0px 1px 3px 1px rgba(60, 64, 67, 0.15);\n",
              "      fill: #174EA6;\n",
              "    }\n",
              "\n",
              "    .colab-df-buttons div {\n",
              "      margin-bottom: 4px;\n",
              "    }\n",
              "\n",
              "    [theme=dark] .colab-df-convert {\n",
              "      background-color: #3B4455;\n",
              "      fill: #D2E3FC;\n",
              "    }\n",
              "\n",
              "    [theme=dark] .colab-df-convert:hover {\n",
              "      background-color: #434B5C;\n",
              "      box-shadow: 0px 1px 3px 1px rgba(0, 0, 0, 0.15);\n",
              "      filter: drop-shadow(0px 1px 2px rgba(0, 0, 0, 0.3));\n",
              "      fill: #FFFFFF;\n",
              "    }\n",
              "  </style>\n",
              "\n",
              "    <script>\n",
              "      const buttonEl =\n",
              "        document.querySelector('#df-bec1ba94-36dc-4964-afb6-a5256ed07b0f button.colab-df-convert');\n",
              "      buttonEl.style.display =\n",
              "        google.colab.kernel.accessAllowed ? 'block' : 'none';\n",
              "\n",
              "      async function convertToInteractive(key) {\n",
              "        const element = document.querySelector('#df-bec1ba94-36dc-4964-afb6-a5256ed07b0f');\n",
              "        const dataTable =\n",
              "          await google.colab.kernel.invokeFunction('convertToInteractive',\n",
              "                                                    [key], {});\n",
              "        if (!dataTable) return;\n",
              "\n",
              "        const docLinkHtml = 'Like what you see? Visit the ' +\n",
              "          '<a target=\"_blank\" href=https://colab.research.google.com/notebooks/data_table.ipynb>data table notebook</a>'\n",
              "          + ' to learn more about interactive tables.';\n",
              "        element.innerHTML = '';\n",
              "        dataTable['output_type'] = 'display_data';\n",
              "        await google.colab.output.renderOutput(dataTable, element);\n",
              "        const docLink = document.createElement('div');\n",
              "        docLink.innerHTML = docLinkHtml;\n",
              "        element.appendChild(docLink);\n",
              "      }\n",
              "    </script>\n",
              "  </div>\n",
              "\n",
              "\n",
              "<div id=\"df-376986a3-e903-49cb-ba00-1030b400a7b5\">\n",
              "  <button class=\"colab-df-quickchart\" onclick=\"quickchart('df-376986a3-e903-49cb-ba00-1030b400a7b5')\"\n",
              "            title=\"Suggest charts\"\n",
              "            style=\"display:none;\">\n",
              "\n",
              "<svg xmlns=\"http://www.w3.org/2000/svg\" height=\"24px\"viewBox=\"0 0 24 24\"\n",
              "     width=\"24px\">\n",
              "    <g>\n",
              "        <path d=\"M19 3H5c-1.1 0-2 .9-2 2v14c0 1.1.9 2 2 2h14c1.1 0 2-.9 2-2V5c0-1.1-.9-2-2-2zM9 17H7v-7h2v7zm4 0h-2V7h2v10zm4 0h-2v-4h2v4z\"/>\n",
              "    </g>\n",
              "</svg>\n",
              "  </button>\n",
              "\n",
              "<style>\n",
              "  .colab-df-quickchart {\n",
              "      --bg-color: #E8F0FE;\n",
              "      --fill-color: #1967D2;\n",
              "      --hover-bg-color: #E2EBFA;\n",
              "      --hover-fill-color: #174EA6;\n",
              "      --disabled-fill-color: #AAA;\n",
              "      --disabled-bg-color: #DDD;\n",
              "  }\n",
              "\n",
              "  [theme=dark] .colab-df-quickchart {\n",
              "      --bg-color: #3B4455;\n",
              "      --fill-color: #D2E3FC;\n",
              "      --hover-bg-color: #434B5C;\n",
              "      --hover-fill-color: #FFFFFF;\n",
              "      --disabled-bg-color: #3B4455;\n",
              "      --disabled-fill-color: #666;\n",
              "  }\n",
              "\n",
              "  .colab-df-quickchart {\n",
              "    background-color: var(--bg-color);\n",
              "    border: none;\n",
              "    border-radius: 50%;\n",
              "    cursor: pointer;\n",
              "    display: none;\n",
              "    fill: var(--fill-color);\n",
              "    height: 32px;\n",
              "    padding: 0;\n",
              "    width: 32px;\n",
              "  }\n",
              "\n",
              "  .colab-df-quickchart:hover {\n",
              "    background-color: var(--hover-bg-color);\n",
              "    box-shadow: 0 1px 2px rgba(60, 64, 67, 0.3), 0 1px 3px 1px rgba(60, 64, 67, 0.15);\n",
              "    fill: var(--button-hover-fill-color);\n",
              "  }\n",
              "\n",
              "  .colab-df-quickchart-complete:disabled,\n",
              "  .colab-df-quickchart-complete:disabled:hover {\n",
              "    background-color: var(--disabled-bg-color);\n",
              "    fill: var(--disabled-fill-color);\n",
              "    box-shadow: none;\n",
              "  }\n",
              "\n",
              "  .colab-df-spinner {\n",
              "    border: 2px solid var(--fill-color);\n",
              "    border-color: transparent;\n",
              "    border-bottom-color: var(--fill-color);\n",
              "    animation:\n",
              "      spin 1s steps(1) infinite;\n",
              "  }\n",
              "\n",
              "  @keyframes spin {\n",
              "    0% {\n",
              "      border-color: transparent;\n",
              "      border-bottom-color: var(--fill-color);\n",
              "      border-left-color: var(--fill-color);\n",
              "    }\n",
              "    20% {\n",
              "      border-color: transparent;\n",
              "      border-left-color: var(--fill-color);\n",
              "      border-top-color: var(--fill-color);\n",
              "    }\n",
              "    30% {\n",
              "      border-color: transparent;\n",
              "      border-left-color: var(--fill-color);\n",
              "      border-top-color: var(--fill-color);\n",
              "      border-right-color: var(--fill-color);\n",
              "    }\n",
              "    40% {\n",
              "      border-color: transparent;\n",
              "      border-right-color: var(--fill-color);\n",
              "      border-top-color: var(--fill-color);\n",
              "    }\n",
              "    60% {\n",
              "      border-color: transparent;\n",
              "      border-right-color: var(--fill-color);\n",
              "    }\n",
              "    80% {\n",
              "      border-color: transparent;\n",
              "      border-right-color: var(--fill-color);\n",
              "      border-bottom-color: var(--fill-color);\n",
              "    }\n",
              "    90% {\n",
              "      border-color: transparent;\n",
              "      border-bottom-color: var(--fill-color);\n",
              "    }\n",
              "  }\n",
              "</style>\n",
              "\n",
              "  <script>\n",
              "    async function quickchart(key) {\n",
              "      const quickchartButtonEl =\n",
              "        document.querySelector('#' + key + ' button');\n",
              "      quickchartButtonEl.disabled = true;  // To prevent multiple clicks.\n",
              "      quickchartButtonEl.classList.add('colab-df-spinner');\n",
              "      try {\n",
              "        const charts = await google.colab.kernel.invokeFunction(\n",
              "            'suggestCharts', [key], {});\n",
              "      } catch (error) {\n",
              "        console.error('Error during call to suggestCharts:', error);\n",
              "      }\n",
              "      quickchartButtonEl.classList.remove('colab-df-spinner');\n",
              "      quickchartButtonEl.classList.add('colab-df-quickchart-complete');\n",
              "    }\n",
              "    (() => {\n",
              "      let quickchartButtonEl =\n",
              "        document.querySelector('#df-376986a3-e903-49cb-ba00-1030b400a7b5 button');\n",
              "      quickchartButtonEl.style.display =\n",
              "        google.colab.kernel.accessAllowed ? 'block' : 'none';\n",
              "    })();\n",
              "  </script>\n",
              "</div>\n",
              "\n",
              "  <div id=\"id_018a2bf3-61d7-4201-bd3b-be7f9ac83da3\">\n",
              "    <style>\n",
              "      .colab-df-generate {\n",
              "        background-color: #E8F0FE;\n",
              "        border: none;\n",
              "        border-radius: 50%;\n",
              "        cursor: pointer;\n",
              "        display: none;\n",
              "        fill: #1967D2;\n",
              "        height: 32px;\n",
              "        padding: 0 0 0 0;\n",
              "        width: 32px;\n",
              "      }\n",
              "\n",
              "      .colab-df-generate:hover {\n",
              "        background-color: #E2EBFA;\n",
              "        box-shadow: 0px 1px 2px rgba(60, 64, 67, 0.3), 0px 1px 3px 1px rgba(60, 64, 67, 0.15);\n",
              "        fill: #174EA6;\n",
              "      }\n",
              "\n",
              "      [theme=dark] .colab-df-generate {\n",
              "        background-color: #3B4455;\n",
              "        fill: #D2E3FC;\n",
              "      }\n",
              "\n",
              "      [theme=dark] .colab-df-generate:hover {\n",
              "        background-color: #434B5C;\n",
              "        box-shadow: 0px 1px 3px 1px rgba(0, 0, 0, 0.15);\n",
              "        filter: drop-shadow(0px 1px 2px rgba(0, 0, 0, 0.3));\n",
              "        fill: #FFFFFF;\n",
              "      }\n",
              "    </style>\n",
              "    <button class=\"colab-df-generate\" onclick=\"generateWithVariable('df_trim')\"\n",
              "            title=\"Generate code using this dataframe.\"\n",
              "            style=\"display:none;\">\n",
              "\n",
              "  <svg xmlns=\"http://www.w3.org/2000/svg\" height=\"24px\"viewBox=\"0 0 24 24\"\n",
              "       width=\"24px\">\n",
              "    <path d=\"M7,19H8.4L18.45,9,17,7.55,7,17.6ZM5,21V16.75L18.45,3.32a2,2,0,0,1,2.83,0l1.4,1.43a1.91,1.91,0,0,1,.58,1.4,1.91,1.91,0,0,1-.58,1.4L9.25,21ZM18.45,9,17,7.55Zm-12,3A5.31,5.31,0,0,0,4.9,8.1,5.31,5.31,0,0,0,1,6.5,5.31,5.31,0,0,0,4.9,4.9,5.31,5.31,0,0,0,6.5,1,5.31,5.31,0,0,0,8.1,4.9,5.31,5.31,0,0,0,12,6.5,5.46,5.46,0,0,0,6.5,12Z\"/>\n",
              "  </svg>\n",
              "    </button>\n",
              "    <script>\n",
              "      (() => {\n",
              "      const buttonEl =\n",
              "        document.querySelector('#id_018a2bf3-61d7-4201-bd3b-be7f9ac83da3 button.colab-df-generate');\n",
              "      buttonEl.style.display =\n",
              "        google.colab.kernel.accessAllowed ? 'block' : 'none';\n",
              "\n",
              "      buttonEl.onclick = () => {\n",
              "        google.colab.notebook.generateWithVariable('df_trim');\n",
              "      }\n",
              "      })();\n",
              "    </script>\n",
              "  </div>\n",
              "\n",
              "    </div>\n",
              "  </div>\n"
            ],
            "application/vnd.google.colaboratory.intrinsic+json": {
              "type": "dataframe",
              "variable_name": "df_trim",
              "summary": "{\n  \"name\": \"df_trim\",\n  \"rows\": 239,\n  \"fields\": [\n    {\n      \"column\": \"ID_pelanggan\",\n      \"properties\": {\n        \"dtype\": \"number\",\n        \"std\": 71,\n        \"min\": 1,\n        \"max\": 249,\n        \"num_unique_values\": 239,\n        \"samples\": [\n          26,\n          7,\n          98\n        ],\n        \"semantic_type\": \"\",\n        \"description\": \"\"\n      }\n    },\n    {\n      \"column\": \"Jenis Kelamin\",\n      \"properties\": {\n        \"dtype\": \"category\",\n        \"num_unique_values\": 2,\n        \"samples\": [\n          \"Perempuan\",\n          \"Laki-laki\"\n        ],\n        \"semantic_type\": \"\",\n        \"description\": \"\"\n      }\n    },\n    {\n      \"column\": \"Umur\",\n      \"properties\": {\n        \"dtype\": \"number\",\n        \"std\": 13.420437910952822,\n        \"min\": 18.0,\n        \"max\": 70.0,\n        \"num_unique_values\": 51,\n        \"samples\": [\n          55.0,\n          26.0\n        ],\n        \"semantic_type\": \"\",\n        \"description\": \"\"\n      }\n    },\n    {\n      \"column\": \"Pendapatan pertahun (juta)\",\n      \"properties\": {\n        \"dtype\": \"number\",\n        \"std\": 24,\n        \"min\": 15,\n        \"max\": 137,\n        \"num_unique_values\": 64,\n        \"samples\": [\n          87,\n          101\n        ],\n        \"semantic_type\": \"\",\n        \"description\": \"\"\n      }\n    },\n    {\n      \"column\": \"Skor Belanja (1-100)\",\n      \"properties\": {\n        \"dtype\": \"number\",\n        \"std\": 27.77090815124747,\n        \"min\": 3.0,\n        \"max\": 99.0,\n        \"num_unique_values\": 82,\n        \"samples\": [\n          36.0,\n          39.0\n        ],\n        \"semantic_type\": \"\",\n        \"description\": \"\"\n      }\n    }\n  ]\n}"
            }
          },
          "metadata": {},
          "execution_count": 21
        }
      ]
    },
    {
      "cell_type": "code",
      "source": [
        "sns.histplot(df_trim['Umur'])"
      ],
      "metadata": {
        "colab": {
          "base_uri": "https://localhost:8080/",
          "height": 467
        },
        "id": "sweOG3GNSkvk",
        "outputId": "18808ea7-e217-4120-9ad6-1bb630cf2cb8"
      },
      "execution_count": null,
      "outputs": [
        {
          "output_type": "execute_result",
          "data": {
            "text/plain": [
              "<Axes: xlabel='Umur', ylabel='Count'>"
            ]
          },
          "metadata": {},
          "execution_count": 22
        },
        {
          "output_type": "display_data",
          "data": {
            "text/plain": [
              "<Figure size 640x480 with 1 Axes>"
            ],
            "image/png": "[encoded data removed]"
          },
          "metadata": {}
        }
      ]
    },
    {
      "cell_type": "code",
      "source": [
        "sns.histplot(df_trim['Umur'])"
      ],
      "metadata": {
        "colab": {
          "base_uri": "https://localhost:8080/",
          "height": 467
        },
        "id": "fry4yz5KSC_q",
        "outputId": "a3b1225c-935a-45fb-c257-2cd24b1651ae"
      },
      "execution_count": null,
      "outputs": [
        {
          "output_type": "execute_result",
          "data": {
            "text/plain": [
              "<Axes: xlabel='Umur', ylabel='Count'>"
            ]
          },
          "metadata": {},
          "execution_count": 23
        },
        {
          "output_type": "display_data",
          "data": {
            "text/plain": [
              "<Figure size 640x480 with 1 Axes>"
            ],
            "image/png": "[encoded data removed]"
          },
          "metadata": {}
        }
      ]
    },
    {
      "cell_type": "code",
      "source": [
        "sns.scatterplot(x=df_trim['Umur'], y=df_trim['Skor Belanja (1-100)'])"
      ],
      "metadata": {
        "colab": {
          "base_uri": "https://localhost:8080/",
          "height": 467
        },
        "id": "N_RDlJQuKIF1",
        "outputId": "5f20d61c-ea80-485b-cc56-0e972c673fb5"
      },
      "execution_count": null,
      "outputs": [
        {
          "output_type": "execute_result",
          "data": {
            "text/plain": [
              "<Axes: xlabel='Umur', ylabel='Skor Belanja (1-100)'>"
            ]
          },
          "metadata": {},
          "execution_count": 24
        },
        {
          "output_type": "display_data",
          "data": {
            "text/plain": [
              "<Figure size 640x480 with 1 Axes>"
            ],
            "image/png": "[encoded data removed]"
          },
          "metadata": {}
        }
      ]
    },
    {
      "cell_type": "code",
      "source": [
        "# Lakukan rescaling data menggunakan StandardScaler\n",
        "scaler = StandardScaler()\n",
        "df_scaled = scaler.fit_transform(df_trim[['Umur', 'Skor Belanja (1-100)']])\n",
        "df_scaled"
      ],
      "metadata": {
        "colab": {
          "base_uri": "https://localhost:8080/"
        },
        "id": "usth3appKOyf",
        "outputId": "db3ecdc8-0220-410b-dba4-d7f1b440ecc0"
      },
      "execution_count": null,
      "outputs": [
        {
          "output_type": "execute_result",
          "data": {
            "text/plain": [
              "array([[-1.4565257 , -0.40009983],\n",
              "       [-1.30718652,  1.11544812],\n",
              "       [-1.38185611, -1.5908875 ],\n",
              "       [-1.15784733,  0.97111022],\n",
              "       [-0.56049059, -0.36401535],\n",
              "       [-1.23251692,  0.93502575],\n",
              "       [-0.26181221, -1.5908875 ],\n",
              "       [-1.15784733,  1.58454629],\n",
              "       [ 1.90360599, -1.69914092],\n",
              "       [-0.63516018,  0.79068785],\n",
              "       [ 2.12761477, -1.3022117 ],\n",
              "       [-0.26181221,  1.76496867],\n",
              "       [ 1.45558843, -1.26612722],\n",
              "       [-1.08317774,  0.97111022],\n",
              "       [-0.11247303, -1.33829617],\n",
              "       [-1.23251692,  1.04327917],\n",
              "       [-1.38185611,  0.574181  ],\n",
              "       [ 1.00757087, -0.76094458],\n",
              "       [-0.26181221,  1.72888419],\n",
              "       [-0.26181221, -0.54443773],\n",
              "       [-1.00850814,  0.82677232],\n",
              "       [ 0.55955331, -1.62697197],\n",
              "       [-0.56049059,  0.82677232],\n",
              "       [ 1.15691006, -1.3022117 ],\n",
              "       [-0.70982977,  1.15153259],\n",
              "       [ 0.48488372, -0.65269115],\n",
              "       [-0.26181221,  0.39375862],\n",
              "       [ 0.11153575, -0.68877563],\n",
              "       [-1.15784733,  1.33195497],\n",
              "       [ 1.60492761, -1.66305645],\n",
              "       [-1.30718652,  0.82677232],\n",
              "       [ 1.08224046, -1.66305645],\n",
              "       [-1.5311953 ,  1.51237734],\n",
              "       [ 0.78356209, -1.3022117 ],\n",
              "       [-1.30718652,  1.11544812],\n",
              "       [ 0.26087494, -1.19395827],\n",
              "       [-0.63516018,  0.82677232],\n",
              "       [-0.18714262, -0.869198  ],\n",
              "       [-1.38185611,  0.89894127],\n",
              "       [ 1.97827558, -0.54443773],\n",
              "       [-1.08317774,  1.51237734],\n",
              "       [ 0.7088925 , -0.50835325],\n",
              "       [-0.56049059,  0.39375862],\n",
              "       [ 0.78356209, -0.79702905],\n",
              "       [-1.08317774,  0.53809652],\n",
              "       [ 0.85823168,  0.17725177],\n",
              "       [-0.85916896, -0.11142403],\n",
              "       [-0.70982977, -0.2918464 ],\n",
              "       [ 0.78356209,  0.06899835],\n",
              "       [-0.4111514 ,  0.35767415],\n",
              "       [-0.56049059,  0.1411673 ],\n",
              "       [ 1.53025802,  0.35767415],\n",
              "       [ 0.85823168, -0.18359298],\n",
              "       [ 0.6342229 , -0.32793088],\n",
              "       [ 0.93290128, -0.0031706 ],\n",
              "       [ 2.27695395, -0.1475085 ],\n",
              "       [-0.85916896,  0.03291387],\n",
              "       [ 1.08224046, -0.1475085 ],\n",
              "       [ 2.35162355,  0.21333625],\n",
              "       [ 2.12761477,  0.06899835],\n",
              "       [ 1.15691006,  0.32158967],\n",
              "       [ 1.82893639,  0.03291387],\n",
              "       [-1.5311953 ,  0.32158967],\n",
              "       [ 0.33554453, -0.0031706 ],\n",
              "       [ 2.20228436, -0.07533955],\n",
              "       [-1.4565257 ,  0.32158967],\n",
              "       [-0.48582099, -0.11142403],\n",
              "       [ 2.35162355,  0.17725177],\n",
              "       [ 0.6342229 , -0.2918464 ],\n",
              "       [ 1.60492761, -0.03925508],\n",
              "       [ 1.60492761,  0.21333625],\n",
              "       [ 1.53025802, -0.11142403],\n",
              "       [-0.93383855,  0.1411673 ],\n",
              "       [ 0.48488372,  0.10508282],\n",
              "       [ 0.11153575, -0.07533955],\n",
              "       [-1.15784733,  0.06899835],\n",
              "       [ 0.78356209, -0.2918464 ],\n",
              "       [ 1.38091883,  0.03291387],\n",
              "       [-0.03780343,  0.17725177],\n",
              "       [ 2.12761477, -0.32793088],\n",
              "       [ 0.55955331, -0.21967745],\n",
              "       [-1.30718652,  0.24942072],\n",
              "       [ 0.7088925 , -0.1475085 ],\n",
              "       [ 1.23157965,  0.2855052 ],\n",
              "       [-1.23251692,  0.17725177],\n",
              "       [-0.33648181,  0.35767415],\n",
              "       [ 0.85823168, -0.1475085 ],\n",
              "       [ 2.20228436,  0.17725177],\n",
              "       [-1.5311953 , -0.32793088],\n",
              "       [ 0.7088925 , -0.03925508],\n",
              "       [ 0.11153575, -0.36401535],\n",
              "       [-1.08317774,  0.06899835],\n",
              "       [ 0.6342229 , -0.11142403],\n",
              "       [-0.85916896, -0.0031706 ],\n",
              "       [ 0.7088925 , -0.2918464 ],\n",
              "       [-1.38185611, -0.03925508],\n",
              "       [-1.15784733, -0.32793088],\n",
              "       [ 0.78356209, -0.07533955],\n",
              "       [ 2.12761477,  0.32158967],\n",
              "       [-0.93383855,  0.17725177],\n",
              "       [ 0.78356209,  0.21333625],\n",
              "       [-1.30718652, -0.2918464 ],\n",
              "       [ 2.05294517, -0.0031706 ],\n",
              "       [ 1.15691006, -0.1475085 ],\n",
              "       [ 2.20228436, -0.25576193],\n",
              "       [ 2.05294517, -0.07533955],\n",
              "       [ 1.97827558,  0.06899835],\n",
              "       [-1.4565257 ,  0.1411673 ],\n",
              "       [-0.03780343, -0.2918464 ],\n",
              "       [-1.4565257 , -0.1475085 ],\n",
              "       [-1.5311953 , -0.07533955],\n",
              "       [-1.4565257 , -0.0031706 ],\n",
              "       [ 1.82893639, -0.25576193],\n",
              "       [ 0.93290128, -0.25576193],\n",
              "       [ 0.85823168,  0.24942072],\n",
              "       [-0.85916896,  0.21333625],\n",
              "       [-0.03780343, -0.36401535],\n",
              "       [ 0.11153575,  0.2855052 ],\n",
              "       [ 0.03686616,  1.47629287],\n",
              "       [-1.15784733, -0.76094458],\n",
              "       [-0.56049059,  0.97111022],\n",
              "       [ 0.33554453, -0.54443773],\n",
              "       [ 0.11153575,  1.62063077],\n",
              "       [ 1.53025802, -1.41046512],\n",
              "       [-0.03780343,  0.89894127],\n",
              "       [ 0.6342229 , -1.48263407],\n",
              "       [ 0.03686616,  0.89894127],\n",
              "       [-1.00850814, -0.5805222 ],\n",
              "       [-0.56049059,  0.75460337],\n",
              "       [-1.38185611, -1.62697197],\n",
              "       [-0.70982977,  1.36803944],\n",
              "       [ 0.41021412, -1.55480302],\n",
              "       [-0.48582099,  0.82677232],\n",
              "       [-1.4565257 , -1.4465496 ],\n",
              "       [-0.26181221,  0.79068785],\n",
              "       [ 1.38091883, -1.62697197],\n",
              "       [-0.48582099,  1.54846182],\n",
              "       [-0.78449937, -0.36401535],\n",
              "       [-0.48582099,  1.33195497],\n",
              "       [-1.00850814, -1.37438065],\n",
              "       [-0.78449937,  1.69279972],\n",
              "       [ 0.7088925 , -0.50835325],\n",
              "       [-0.48582099,  0.8628568 ],\n",
              "       [-0.33648181, -1.0135359 ],\n",
              "       [-0.33648181,  1.44020839],\n",
              "       [ 0.33554453, -1.19395827],\n",
              "       [ 0.03686616,  1.36803944],\n",
              "       [ 0.41021412, -1.08570485],\n",
              "       [-0.03780343,  0.93502575],\n",
              "       [ 0.6342229 , -1.23004275],\n",
              "       [-0.85916896,  1.40412392],\n",
              "       [-0.11247303, -1.66305645],\n",
              "       [-0.63516018,  1.00719469],\n",
              "       [-0.33648181, -1.62697197],\n",
              "       [-0.63516018,  0.82677232],\n",
              "       [ 1.30624924, -0.54443773],\n",
              "       [-0.70982977,  1.18761707],\n",
              "       [-1.4565257 , -1.62697197],\n",
              "       [-0.56049059,  1.54846182],\n",
              "       [ 0.85823168, -0.869198  ],\n",
              "       [-0.18714262,  0.89894127],\n",
              "       [ 0.26087494, -1.08570485],\n",
              "       [-0.4111514 ,  1.62063077],\n",
              "       [-0.18714262, -0.83311353],\n",
              "       [-0.48582099,  0.46592757],\n",
              "       [ 0.11153575, -1.33829617],\n",
              "       [-0.78449937,  0.89894127],\n",
              "       [-0.18714262, -1.4465496 ],\n",
              "       [-0.18714262,  1.51237734],\n",
              "       [ 1.00757087, -1.33829617],\n",
              "       [-0.63516018,  1.29587049],\n",
              "       [ 1.45558843, -1.26612722],\n",
              "       [-0.85916896, -1.62697197],\n",
              "       [ 1.53025802, -1.3022117 ],\n",
              "       [-0.26181221,  1.44020839],\n",
              "       [-0.11247303, -0.65269115],\n",
              "       [-0.48582099,  1.29587049],\n",
              "       [ 0.55955331, -1.26612722],\n",
              "       [-0.70982977,  1.36803944],\n",
              "       [ 0.18620535, -0.40009983],\n",
              "       [-0.63516018,  1.69279972],\n",
              "       [ 1.15691006, -0.94136695],\n",
              "       [-0.78449937,  0.64634995],\n",
              "       [ 0.18620535, -1.19395827],\n",
              "       [-0.18714262,  1.25978602],\n",
              "       [-0.33648181, -0.97745142],\n",
              "       [-0.48582099,  0.68243442],\n",
              "       [-0.4111514 , -1.51871855],\n",
              "       [-0.03780343,  1.47629287],\n",
              "       [ 0.6342229 , -1.23004275],\n",
              "       [-0.26181221,  1.04327917],\n",
              "       [ 0.48488372, -0.79702905],\n",
              "       [-0.48582099,  0.8628568 ],\n",
              "       [-0.63516018,  1.18761707],\n",
              "       [-0.56049059,  0.75460337],\n",
              "       [-1.38185611, -1.62697197],\n",
              "       [-0.70982977,  1.36803944],\n",
              "       [ 0.41021412, -1.55480302],\n",
              "       [-0.48582099,  0.82677232],\n",
              "       [-1.4565257 , -1.4465496 ],\n",
              "       [-0.26181221,  0.79068785],\n",
              "       [ 1.38091883, -1.62697197],\n",
              "       [-0.48582099,  1.54846182],\n",
              "       [-0.48582099,  1.33195497],\n",
              "       [-1.00850814, -1.37438065],\n",
              "       [-0.78449937,  1.69279972],\n",
              "       [ 0.7088925 , -0.50835325],\n",
              "       [-0.48582099,  0.8628568 ],\n",
              "       [-0.33648181, -1.0135359 ],\n",
              "       [ 0.33554453, -1.19395827],\n",
              "       [ 0.03686616,  1.36803944],\n",
              "       [ 0.41021412, -1.08570485],\n",
              "       [-0.03780343,  0.93502575],\n",
              "       [ 0.6342229 , -1.23004275],\n",
              "       [-0.85916896,  1.40412392],\n",
              "       [-0.11247303, -1.62697197],\n",
              "       [-0.63516018,  1.00719469],\n",
              "       [-0.63516018,  0.82677232],\n",
              "       [ 1.30624924, -0.54443773],\n",
              "       [-0.70982977,  1.18761707],\n",
              "       [-1.4565257 , -1.62697197],\n",
              "       [-0.56049059,  1.54846182],\n",
              "       [ 0.85823168, -0.869198  ],\n",
              "       [-0.18714262,  0.89894127],\n",
              "       [ 0.26087494, -1.08570485],\n",
              "       [-0.4111514 ,  1.62063077],\n",
              "       [-0.18714262, -0.83311353],\n",
              "       [-0.48582099,  0.46592757],\n",
              "       [ 0.11153575, -1.33829617],\n",
              "       [-0.78449937,  0.89894127],\n",
              "       [-0.18714262, -1.4465496 ],\n",
              "       [ 1.00757087, -1.33829617],\n",
              "       [-0.63516018,  1.29587049],\n",
              "       [ 1.45558843, -1.26612722],\n",
              "       [-0.85916896,  0.68243442],\n",
              "       [ 1.53025802, -1.3022117 ],\n",
              "       [-0.26181221,  1.44020839],\n",
              "       [-0.11247303, -0.65269115],\n",
              "       [-0.48582099,  1.29587049]])"
            ]
          },
          "metadata": {},
          "execution_count": 25
        }
      ]
    },
    {
      "cell_type": "code",
      "source": [
        "# Lakukan clustering menggunakan kmeans clustering dengan k =2, dan visualisasikan.\n",
        "\n",
        "kmeans = KMeans(init=\"random\", n_clusters=2, random_state=64)\n",
        "kmeans.fit(df_scaled)\n",
        "c = kmeans.cluster_centers_\n",
        "sns.scatterplot(x=df_scaled[:,0], y=df_scaled[:,1], hue=kmeans.labels_, palette='viridis')\n",
        "sns.scatterplot(x=c[:,0], y=c[:,1], s=300, color='red')\n",
        "plt.ylabel('Skor Belanja 1 - 100')\n",
        "plt.xlabel('Umur')\n",
        "plt.show()"
      ],
      "metadata": {
        "colab": {
          "base_uri": "https://localhost:8080/",
          "height": 449
        },
        "id": "z_0MYLuZVOnO",
        "outputId": "f4858063-2bf1-4269-dde0-f8f078d4fe59"
      },
      "execution_count": null,
      "outputs": [
        {
          "output_type": "display_data",
          "data": {
            "text/plain": [
              "<Figure size 640x480 with 1 Axes>"
            ],
            "image/png": "[encoded data removed]"
          },
          "metadata": {}
        }
      ]
    },
    {
      "cell_type": "code",
      "source": [
        "# Gunakan Elbow method untuk menemukan jumlah k kluster yang tepat\n",
        "WCSS = []\n",
        "for i in range(1,12):\n",
        "  kmeans = KMeans(n_clusters=i, init='k-means++')\n",
        "  kmeans.fit(df_scaled)\n",
        "  WCSS.append(kmeans.inertia_)\n",
        "\n",
        "plt.plot(range(1,12), WCSS)\n",
        "plt.title('The Elbow Method')\n",
        "plt.xlabel('Number of clusters')\n",
        "plt.ylabel('WCSS')\n",
        "plt.show()"
      ],
      "metadata": {
        "colab": {
          "base_uri": "https://localhost:8080/",
          "height": 472
        },
        "id": "yGXZpiHNa-HJ",
        "outputId": "5c5dcae6-fd0f-4422-9b05-26ee2dfbb14d"
      },
      "execution_count": null,
      "outputs": [
        {
          "output_type": "display_data",
          "data": {
            "text/plain": [
              "<Figure size 640x480 with 1 Axes>"
            ],
            "image/png": "[encoded data removed]"
          },
          "metadata": {}
        }
      ]
    },
    {
      "cell_type": "code",
      "source": [
        "from yellowbrick.cluster import KElbowVisualizer\n",
        "model = KMeans(random_state=64)\n",
        "visualizer = KElbowVisualizer(model, k=(1,12))\n",
        "visualizer.fit(df_trim[['Umur', 'Skor Belanja (1-100)']])\n",
        "visualizer.show()"
      ],
      "metadata": {
        "colab": {
          "base_uri": "https://localhost:8080/",
          "height": 542
        },
        "id": "9bjp1Qi4WvBc",
        "outputId": "e25a5b22-5fad-40a1-f521-6dcefbb89ad3"
      },
      "execution_count": null,
      "outputs": [
        {
          "output_type": "display_data",
          "data": {
            "text/plain": [
              "<Figure size 800x550 with 2 Axes>"
            ],
            "image/png": "[encoded data removed]"
          },
          "metadata": {}
        },
        {
          "output_type": "execute_result",
          "data": {
            "text/plain": [
              "<Axes: title={'center': 'Distortion Score Elbow for KMeans Clustering'}, xlabel='k', ylabel='distortion score'>"
            ]
          },
          "metadata": {},
          "execution_count": 28
        }
      ]
    },
    {
      "cell_type": "code",
      "source": [
        "# Gunakan k dari rekomendasi metode Elbow lalu visualisasikan\n",
        "kmeans = KMeans(init=\"random\", n_clusters=3, random_state=64)\n",
        "kmeans.fit(df_scaled)\n",
        "c = kmeans.cluster_centers_\n",
        "sns.scatterplot(x=df_scaled[:,0],y=df_scaled[:,1],hue=kmeans.labels_)\n",
        "sns.scatterplot(x=c[:,0], y=c[:,1], s=200)\n",
        "plt.ylabel('Skor Belanja 1 - 100')\n",
        "plt.xlabel('Umur')\n",
        "plt.show()"
      ],
      "metadata": {
        "colab": {
          "base_uri": "https://localhost:8080/",
          "height": 503
        },
        "id": "vt_Yk_XTxLZ5",
        "outputId": "362331a5-85ff-4e41-8dc1-815479787a54"
      },
      "execution_count": null,
      "outputs": [
        {
          "output_type": "display_data",
          "data": {
            "text/plain": [
              "<Figure size 800x550 with 1 Axes>"
            ],
            "image/png": "[encoded data removed]"
          },
          "metadata": {}
        }
      ]
    },
    {
      "cell_type": "code",
      "source": [
        "# Hitung silhoutte Coefficient\n",
        "silhoutCoefficient = silhouette_score(df_scaled, kmeans.fit_predict(df_scaled))\n",
        "silhoutCoefficient"
      ],
      "metadata": {
        "colab": {
          "base_uri": "https://localhost:8080/"
        },
        "id": "lpweJ7W5xg6c",
        "outputId": "3a2cd23e-e077-41b0-c405-d03a2718657d"
      },
      "execution_count": null,
      "outputs": [
        {
          "output_type": "execute_result",
          "data": {
            "text/plain": [
              "0.47253731463291376"
            ]
          },
          "metadata": {},
          "execution_count": 52
        }
      ]
    },
    {
      "cell_type": "code",
      "source": [
        "#Cara kedua hitung\n",
        "kmeans = KMeans(init=\"random\", n_clusters=3, random_state=64)\n",
        "kmeans.fit(df_scaled)\n",
        "silhoutteCoefficient2 = silhouette_score(df_scaled, kmeans.labels_ , metric='euclidean')\n",
        "silhoutteCoefficient2"
      ],
      "metadata": {
        "colab": {
          "base_uri": "https://localhost:8080/"
        },
        "id": "OgAYwqjM1hpb",
        "outputId": "ce16ff0b-fffb-4c24-9e7f-196856f3df41"
      },
      "execution_count": null,
      "outputs": [
        {
          "output_type": "execute_result",
          "data": {
            "text/plain": [
              "0.47253731463291376"
            ]
          },
          "metadata": {},
          "execution_count": 54
        }
      ]
    },
    {
      "cell_type": "markdown",
      "source": [],
      "metadata": {
        "id": "U6sN3ECDX7vM"
      }
    },
    {
      "cell_type": "markdown",
      "metadata": {
        "id": "Fo1GIiVdFP4j"
      },
      "source": [
        "Expected output:\n",
        "\n",
        "n_cluster =2\n",
        "\n",
        "![](https://drive.google.com/uc?id=1RHedPeGR48w-cWl7WWkIsHTSB2DRgynO)\n",
        "\n",
        "\n",
        "Elbow graph\n",
        "\n",
        "![](https://drive.google.com/uc?id=1S3_uvQWzJCi8YwSBbpu2imKbUBZ3JdmV)\n",
        "\n",
        "n_cluster =3\n",
        "\n",
        "![](https://drive.google.com/uc?id=1EVMDQgPpC8vYpfxilyiJMRDNIr-JXULd)"
      ]
    },
    {
      "cell_type": "markdown",
      "metadata": {
        "id": "5xpMIoEcm8MM"
      },
      "source": [
        "\n",
        "\n",
        "---\n",
        "\n",
        "\n",
        "\n",
        "---\n",
        "\n",
        "\n",
        "\n",
        "---\n",
        "\n"
      ]
    },
    {
      "cell_type": "markdown",
      "metadata": {
        "id": "pt-NFlqTm-Og"
      },
      "source": [
        "# Soal 3. Analisa Data Hasil Clustering\n",
        "\n",
        "Dari hasil klustering diatas, buatlah sebuah analisa segmentasi pelanggan untuk kemajuan supermarket."
      ]
    },
    {
      "cell_type": "markdown",
      "metadata": {
        "id": "zNPDstJynpva"
      },
      "source": [
        "Jawab disini:\n",
        "Graph yang dihasilkan menunjukkan bahwa usia mempengaruhi kepuasan belanja. ada cluster yang menunjukkan bahwa pelanggan yg lebih muda / produktif memiliki rating lebih tinggi. dan pelanggan yang lebih tua memiliki rating memili"
      ]
    }
  ]
}